{
 "cells": [
  {
   "cell_type": "code",
   "execution_count": 8,
   "metadata": {
    "collapsed": true
   },
   "outputs": [],
   "source": [
    "import Application2\n",
    "import numpy as np\n",
    "from world import HierarchicalItemPickWorld\n",
    "from world.pick import OneItemPickWorld\n",
    "from world.pick import TwoAgentNestedMDP"
   ]
  },
  {
   "cell_type": "code",
   "execution_count": 10,
   "metadata": {},
   "outputs": [],
   "source": [
    "np.set_printoptions(edgeitems=3200, linewidth=1000, precision=6)\n",
    "world_shape = (5, 5)\n",
    "world1 = OneItemPickWorld.OneItemPickWorld(world_shape, (2, 2))\n",
    "world2 = OneItemPickWorld.OneItemPickWorld(world_shape, (2, 2))\n",
    "# world = TwoAgentNestedMDP.TwoAgentNestedMDP(world1, world2, sparse=True)\n",
    "world = TwoAgentNestedMDP.TwoAgentNestedMDP(world1, world2, sparse=False)"
   ]
  },
  {
   "cell_type": "code",
   "execution_count": 11,
   "metadata": {},
   "outputs": [],
   "source": [
    "from solver import ValueIteration\n",
    "solver = ValueIteration.ValueIteration()\n",
    "policy = solver.get_greedy_policy(world1)\n",
    "# world.calc_policy(self, 1, policy)"
   ]
  },
  {
   "cell_type": "code",
   "execution_count": 13,
   "metadata": {},
   "outputs": [
    {
     "ename": "AttributeError",
     "evalue": "'TwoAgentNestedMDP' object has no attribute 'calc_policy'",
     "traceback": [
      "\u001b[0;31m\u001b[0m",
      "\u001b[0;31mAttributeError\u001b[0mTraceback (most recent call last)",
      "\u001b[0;32m<ipython-input-13-36c0f98e3fa1>\u001b[0m in \u001b[0;36m<module>\u001b[0;34m()\u001b[0m\n\u001b[0;32m----> 1\u001b[0;31m \u001b[0mpolicy2\u001b[0m \u001b[1;33m=\u001b[0m \u001b[0mworld\u001b[0m\u001b[1;33m.\u001b[0m\u001b[0mcalc_policy\u001b[0m\u001b[1;33m(\u001b[0m\u001b[1;36m1\u001b[0m\u001b[1;33m,\u001b[0m \u001b[0mpolicy\u001b[0m\u001b[1;33m)\u001b[0m\u001b[1;33m\u001b[0m\u001b[0m\n\u001b[0m\u001b[1;32m      2\u001b[0m \u001b[1;32mprint\u001b[0m \u001b[0mpolicy2\u001b[0m\u001b[1;33m\u001b[0m\u001b[0m\n",
      "\u001b[0;31mAttributeError\u001b[0m: 'TwoAgentNestedMDP' object has no attribute 'calc_policy'"
     ],
     "output_type": "error"
    }
   ],
   "source": [
    "policy2 = world.calc_policy(1, policy)\n",
    "print policy2"
   ]
  },
  {
   "cell_type": "code",
   "execution_count": 22,
   "metadata": {},
   "outputs": [],
   "source": [
    ""
   ]
  },
  {
   "cell_type": "code",
   "execution_count": null,
   "metadata": {},
   "outputs": [],
   "source": []
  }
 ],
 "metadata": {
  "kernelspec": {
   "display_name": "Python 2",
   "language": "python",
   "name": "python2"
  },
  "language_info": {
   "codemirror_mode": {
    "name": "ipython",
    "version": 2
   },
   "file_extension": ".py",
   "mimetype": "text/x-python",
   "name": "python",
   "nbconvert_exporter": "python",
   "pygments_lexer": "ipython2",
   "version": "2.7.6"
  }
 },
 "nbformat": 4,
 "nbformat_minor": 0
}
